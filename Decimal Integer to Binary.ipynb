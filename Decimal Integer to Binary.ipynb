{
 "cells": [
  {
   "cell_type": "code",
   "execution_count": 31,
   "metadata": {},
   "outputs": [
    {
     "name": "stdout",
     "output_type": "stream",
     "text": [
      "12: 2 = 6 + 0\n",
      "6: 2 = 3 + 0\n",
      "3: 2 = 1 + 1\n",
      "2: 2 = 1 + 0\n",
      "1: 2 = 0 + 1\n",
      "10100\n"
     ]
    }
   ],
   "source": [
    "decimal_integer = 12\n",
    "quotient = None\n",
    "remainder = 0\n",
    "binary = []\n",
    "\n",
    "while quotient != 0:\n",
    "    remainder = 0\n",
    "    \n",
    "    \n",
    "    quotient = decimal_integer // 2\n",
    "    remainder = decimal_integer % 2\n",
    "    \n",
    "    print(f'{decimal_integer}: 2 = {quotient} + {remainder}')\n",
    "    \n",
    "\n",
    "    decimal_integer = quotient + remainder\n",
    "    \n",
    "    binary.append(remainder)\n",
    "    \n",
    "binary.reverse()\n",
    "print(''.join([str(bit) for bit in binary]))\n"
   ]
  },
  {
   "cell_type": "code",
   "execution_count": null,
   "metadata": {},
   "outputs": [],
   "source": []
  },
  {
   "cell_type": "code",
   "execution_count": null,
   "metadata": {},
   "outputs": [],
   "source": []
  },
  {
   "cell_type": "code",
   "execution_count": null,
   "metadata": {},
   "outputs": [],
   "source": []
  },
  {
   "cell_type": "code",
   "execution_count": null,
   "metadata": {},
   "outputs": [],
   "source": []
  }
 ],
 "metadata": {
  "kernelspec": {
   "display_name": "Python 3",
   "language": "python",
   "name": "python3"
  },
  "language_info": {
   "codemirror_mode": {
    "name": "ipython",
    "version": 3
   },
   "file_extension": ".py",
   "mimetype": "text/x-python",
   "name": "python",
   "nbconvert_exporter": "python",
   "pygments_lexer": "ipython3",
   "version": "3.7.3"
  }
 },
 "nbformat": 4,
 "nbformat_minor": 4
}
